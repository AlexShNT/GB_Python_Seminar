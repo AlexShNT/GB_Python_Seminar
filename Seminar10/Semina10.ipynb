{
  "cells": [
    {
      "cell_type": "code",
      "execution_count": null,
      "metadata": {
        "id": "lONGVH8MIy-Y"
      },
      "outputs": [],
      "source": [
        "import pandas as pd\n",
        "import random\n",
        "\n",
        "lst = ['robot'] * 10\n",
        "lst += ['human'] * 10\n",
        "random.shuffle(lst)\n",
        "df = pd.DataFrame({'whoAmI': lst})\n",
        "\n",
        "df.head(n=20)"
      ]
    },
    {
      "cell_type": "code",
      "execution_count": null,
      "metadata": {
        "id": "8Hp498HJSCr_"
      },
      "outputs": [],
      "source": [
        "pd.get_dummies(df['whoAmI'])"
      ]
    },
    {
      "cell_type": "code",
      "execution_count": null,
      "metadata": {
        "id": "_eX386h6SPDO"
      },
      "outputs": [],
      "source": [
        "df1 = pd.DataFrame()\n",
        "\n",
        "df1['human'] = [1 if row['whoAmI'] == 'human' else 0 for ind, row in df.iterrows()]\n",
        "df1['robot'] = [1 if row['whoAmI'] == 'robot' else 0 for ind, row in df.iterrows()]\n",
        "\n",
        "df1.head(n=20)"
      ]
    },
    {
      "cell_type": "code",
      "execution_count": null,
      "metadata": {
        "id": "KroB1Zk2SRwP"
      },
      "outputs": [],
      "source": [
        "df['human'] = [1 if row['whoAmI'] == 'human' else 0 for ind, row in df.iterrows()]\n",
        "df['robot'] = [1 if row['whoAmI'] == 'robot' else 0 for ind, row in df.iterrows()]\n",
        "\n",
        "df.head(n=20)"
      ]
    }
  ],
  "metadata": {
    "colab": {
      "provenance": []
    },
    "kernelspec": {
      "display_name": "Python 3",
      "name": "python3"
    },
    "language_info": {
      "name": "python"
    }
  },
  "nbformat": 4,
  "nbformat_minor": 0
}
